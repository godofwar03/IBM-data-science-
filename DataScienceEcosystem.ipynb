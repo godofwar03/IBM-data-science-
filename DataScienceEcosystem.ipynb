{
 "cells": [
  {
   "cell_type": "markdown",
   "id": "65d85f9a-354e-40ea-9f65-1afeb7083ed7",
   "metadata": {},
   "source": [
    "# Data Science Tools and Ecosystem"
   ]
  },
  {
   "cell_type": "markdown",
   "id": "cd307b6a-1a3f-43db-99f2-e8f8615fbe04",
   "metadata": {},
   "source": [
    "# In this notebook, Data Science Tools and Ecosystem are summarized"
   ]
  },
  {
   "cell_type": "markdown",
   "id": "681094f3-5b6f-4aa2-8d2c-6f8ca50fe30e",
   "metadata": {},
   "source": [
    "Some of the popular languages that Data Scientists use are\n",
    "\n",
    "1.Apache Spark\n",
    "2.D3.js\n",
    "3.IBM SPSS\n",
    "4.Julia"
   ]
  },
  {
   "cell_type": "markdown",
   "id": "7a8a1bb4-6345-4a25-9491-bd62d44fffcf",
   "metadata": {},
   "source": [
    "Some of the commonly used libraries used by Data Scientists include\n",
    "\n",
    "1.NumPy\n",
    "2.Matplotlib\n",
    "3.Pandas\n",
    "4.SciPy\n",
    "5.PyTorch\n"
   ]
  },
  {
   "cell_type": "markdown",
   "id": "cb12eb26-4b5f-45d0-9a47-8c4378d01d16",
   "metadata": {},
   "source": [
    "# Data Science Tools"
   ]
  },
  {
   "cell_type": "code",
   "execution_count": null,
   "id": "bb15f3c2-f58e-4315-a3ff-ad6b5ac3d29e",
   "metadata": {},
   "outputs": [],
   "source": []
  }
 ],
 "metadata": {
  "kernelspec": {
   "display_name": "Python",
   "language": "python",
   "name": "conda-env-python-py"
  },
  "language_info": {
   "codemirror_mode": {
    "name": "ipython",
    "version": 3
   },
   "file_extension": ".py",
   "mimetype": "text/x-python",
   "name": "python",
   "nbconvert_exporter": "python",
   "pygments_lexer": "ipython3",
   "version": "3.7.12"
  }
 },
 "nbformat": 4,
 "nbformat_minor": 5
}
